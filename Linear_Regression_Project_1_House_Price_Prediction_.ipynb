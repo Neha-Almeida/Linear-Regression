{
  "cells": [
    {
      "cell_type": "markdown",
      "metadata": {
        "id": "cAmY7NTNsQ2e"
      },
      "source": [
        "#In statistics, ordinary least squares (OLS) is a type of linear least squares method for estimating the unknown parameters in a linear regression model. OLS chooses the parameters of a linear function of a set of explanatory variables by the principle of least squares: minimizing the sum of the squares of the differences between the observed dependent variable (values of the variable being observed) in the given dataset and those predicted by the linear function."
      ]
    },
    {
      "cell_type": "code",
      "execution_count": null,
      "metadata": {
        "id": "kYwbz6WcOwHe"
      },
      "outputs": [],
      "source": [
        "import numpy as np   # Array # Numerical Operation \n",
        "import pandas as pd   # Tabular Anaylysis\n",
        "import matplotlib.pyplot as plt   # Data Visual\n",
        "import statsmodels.api as sm  # Statics / ML "
      ]
    },
    {
      "cell_type": "code",
      "execution_count": null,
      "metadata": {
        "id": "94gyatXLP7p0"
      },
      "outputs": [],
      "source": [
        "# Load the data from a .csv in the same folder\n",
        "data = pd.read_csv('Simple linear regression.csv')"
      ]
    },
    {
      "cell_type": "code",
      "execution_count": null,
      "metadata": {
        "id": "ncZLAMCgQCfL"
      },
      "outputs": [],
      "source": [
        "data"
      ]
    },
    {
      "cell_type": "code",
      "execution_count": null,
      "metadata": {
        "id": "Ll_094m2QDKv"
      },
      "outputs": [],
      "source": [
        "data.head()"
      ]
    },
    {
      "cell_type": "code",
      "execution_count": null,
      "metadata": {
        "id": "25eOLjk3Ra10"
      },
      "outputs": [],
      "source": [
        "data.tail()"
      ]
    },
    {
      "cell_type": "code",
      "execution_count": null,
      "metadata": {
        "id": "SQeJw0ZDRcJ-"
      },
      "outputs": [],
      "source": [
        "data.sample(5)"
      ]
    },
    {
      "cell_type": "code",
      "execution_count": null,
      "metadata": {
        "id": "ZfJcLyNJRf-E"
      },
      "outputs": [],
      "source": [
        "data.info()"
      ]
    },
    {
      "cell_type": "code",
      "execution_count": null,
      "metadata": {
        "id": "9VK0PvjhRiNq"
      },
      "outputs": [],
      "source": [
        "data.describe()"
      ]
    },
    {
      "cell_type": "code",
      "execution_count": null,
      "metadata": {
        "id": "FlxJ43AGRlvA"
      },
      "outputs": [],
      "source": [
        "# Following the regression equation, our dependent variable (y) is the GPA\n",
        "y = data ['Price']\n",
        "# Similarly, our independent variable (x) is the SAT score\n",
        "x1 = data ['Size']"
      ]
    },
    {
      "cell_type": "code",
      "execution_count": null,
      "metadata": {
        "id": "50TkJH9DbSvS"
      },
      "outputs": [],
      "source": [
        "y"
      ]
    },
    {
      "cell_type": "code",
      "execution_count": null,
      "metadata": {
        "id": "m0BjykYxbSyP"
      },
      "outputs": [],
      "source": [
        "x1"
      ]
    },
    {
      "cell_type": "code",
      "execution_count": null,
      "metadata": {
        "id": "2oOANGJ9bUSS"
      },
      "outputs": [],
      "source": [
        "# Plot a scatter plot (first we put the horizontal axis, then the vertical axis)\n",
        "plt.scatter(x1,y)\n",
        "# Name the axes\n",
        "plt.xlabel('Size', fontsize = 20)\n",
        "plt.ylabel('Price', fontsize = 20)\n",
        "# Show the plot\n",
        "plt.show()"
      ]
    },
    {
      "cell_type": "code",
      "execution_count": null,
      "metadata": {
        "id": "curnvft_dtfa"
      },
      "outputs": [],
      "source": [
        "# Add a constant. Essentially, we are adding a new column (equal in lenght to x), which consists only of 1s\n",
        "x = sm.add_constant(x1)\n",
        "# Fit the model, according to the OLS (ordinary least squares) method with a dependent variable y and an idependent x\n",
        "results = sm.OLS(y,x).fit()\n",
        "# Print a nice summary of the regression. That's one of the strong points of statsmodels -> the summaries\n",
        "results.summary()"
      ]
    },
    {
      "cell_type": "code",
      "execution_count": null,
      "metadata": {
        "id": "tjsE2J4XeJVn"
      },
      "outputs": [],
      "source": [
        "# c= 0.2750\n",
        "# m = 0.0017"
      ]
    },
    {
      "cell_type": "code",
      "execution_count": null,
      "metadata": {
        "id": "17jRVyuQewTf"
      },
      "outputs": [],
      "source": [
        "# Create a scatter plot\n",
        "plt.scatter(x1,y)\n",
        "# Define the regression equation, so we can plot it later\n",
        "yhat = 0.0017*x1 + 0.275\n",
        "# Plot the regression line against the independent variable (SAT)\n",
        "fig = plt.plot(x1,yhat, lw=3, c='orange', label ='regression line')\n",
        "# Label the axes\n",
        "plt.xlabel('Size', fontsize = 20)\n",
        "plt.ylabel('Price', fontsize = 20)\n",
        "plt.show()"
      ]
    },
    {
      "cell_type": "code",
      "execution_count": null,
      "metadata": {
        "id": "9i6wuoONe83e"
      },
      "outputs": [],
      "source": []
    }
  ],
  "metadata": {
    "colab": {
      "provenance": []
    },
    "kernelspec": {
      "display_name": "Python 3",
      "name": "python3"
    },
    "language_info": {
      "name": "python"
    }
  },
  "nbformat": 4,
  "nbformat_minor": 0
}
